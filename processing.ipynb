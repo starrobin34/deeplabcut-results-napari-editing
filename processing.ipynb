{
 "cells": [
  {
   "cell_type": "code",
   "execution_count": 18,
   "metadata": {},
   "outputs": [
    {
     "data": {
      "application/vnd.jupyter.widget-view+json": {
       "model_id": "c08197a5b8ea420cb6e2fc7f13e23846",
       "version_major": 2,
       "version_minor": 0
      },
      "text/plain": [
       "Text(value='', description='Directory Path')"
      ]
     },
     "metadata": {},
     "output_type": "display_data"
    },
    {
     "data": {
      "application/vnd.jupyter.widget-view+json": {
       "model_id": "097172df648140a28e77dfbcc6aaea1f",
       "version_major": 2,
       "version_minor": 0
      },
      "text/plain": [
       "Button(description='Select Directory', style=ButtonStyle())"
      ]
     },
     "metadata": {},
     "output_type": "display_data"
    },
    {
     "data": {
      "application/vnd.jupyter.widget-view+json": {
       "model_id": "6b2ffc128db14836829aedd2add81aef",
       "version_major": 2,
       "version_minor": 0
      },
      "text/plain": [
       "Output()"
      ]
     },
     "metadata": {},
     "output_type": "display_data"
    }
   ],
   "source": [
    "import ipywidgets as widgets\n",
    "from IPython.display import display, clear_output\n",
    "from tkinter import Tk, filedialog\n",
    "import os\n",
    "from glob import glob\n",
    "\n",
    "# Widgets for directory selection\n",
    "directory_path = widgets.Text(description=\"Directory Path\")\n",
    "select_button = widgets.Button(description=\"Select Directory\")\n",
    "output = widgets.Output()\n",
    "\n",
    "# Global variables\n",
    "selected_directory = None\n",
    "csv_files = []\n",
    "video_files = []\n",
    "h5_files = []\n",
    "\n",
    "# Function to handle directory selection\n",
    "def on_select_button_click(b):\n",
    "    global selected_directory, csv_files, video_files, h5_files\n",
    "    with output:\n",
    "        clear_output(wait=True)\n",
    "        root = Tk()\n",
    "        root.attributes(\"-topmost\", True)\n",
    "        root.withdraw()  # Hide the main Tkinter window\n",
    "        new_directory = filedialog.askdirectory(title=\"Please select a directory containing the .csv files\")\n",
    "        root.destroy()  # Destroy the Tkinter instance\n",
    "\n",
    "        if new_directory:  # Check if a directory was selected\n",
    "            selected_directory = new_directory\n",
    "            directory_path.value = selected_directory\n",
    "            print(f\"You chose: {selected_directory}\")\n",
    "            \n",
    "            video_files = glob(os.path.join(selected_directory, '**', '*.avi'), recursive=True)\n",
    "            csv_files = glob(os.path.join(selected_directory, '**', '*.csv'), recursive=True)\n",
    "            h5_files = glob(os.path.join(selected_directory, '**', '*.h5'), recursive=True)\n",
    "            \n",
    "            if csv_files:\n",
    "                print(f\"\\nFound {len(csv_files)} .csv files in the directory and subdirectories:\")\n",
    "                for csv_file in csv_files:\n",
    "                    print(f\"- {os.path.basename(csv_file)}\")\n",
    "            if video_files:\n",
    "                print(f\"\\nFound {len(video_files)} .csv files in the directory and subdirectories:\")\n",
    "                for video_file in video_files:\n",
    "                    print(f\"- {os.path.basename(video_file)}\")\n",
    "            if h5_files:\n",
    "                print(f\"\\nFound {len(h5_files)} .h5 files in the directory and subdirectories:\")\n",
    "                for h5_file in h5_files:\n",
    "                    print(f\"- {os.path.basename(h5_file)}\")\n",
    "            else:\n",
    "                print(\"No files found in the selected directory.\")\n",
    "        else:\n",
    "            print(\"No directory selected.\")\n",
    "\n",
    "# Connect button to function and display widgets\n",
    "select_button.on_click(on_select_button_click)\n",
    "display(directory_path, select_button, output)"
   ]
  },
  {
   "cell_type": "code",
   "execution_count": 20,
   "metadata": {},
   "outputs": [
    {
     "name": "stderr",
     "output_type": "stream",
     "text": [
      "WARNING: QWindowsWindow::setGeometry: Unable to set geometry 1086x659+381+139 (frame: 1108x715+370+94) on QWidgetWindow/\"_QtMainWindowClassWindow\" on \"\\\\.\\DISPLAY1\". Resulting geometry: 1631x991+384+153 (frame: 1653x1047+373+108) margins: 11, 45, 11, 11 minimum size: 385x537 MINMAXINFO maxSize=0,0 maxpos=0,0 mintrack=407,593 maxtrack=0,0)\n"
     ]
    },
    {
     "name": "stdout",
     "output_type": "stream",
     "text": [
      "Napari viewer initialized. Add points to the 'New Points' layer, and labels will be assigned dynamically.\n"
     ]
    }
   ],
   "source": [
    "import napari\n",
    "import imageio\n",
    "import numpy as np\n",
    "import pandas as pd\n",
    "from pathlib import Path\n",
    "\n",
    "# Use the first CSV file and video file from your lists\n",
    "csv_file = Path(csv_files[0])  # Use the first file in your csv_files list\n",
    "video_file = Path(video_files[0])  # Use the first file in your video_files list\n",
    "\n",
    "# Predefined labels for new points\n",
    "predefined_labels = [\"label1\", \"label2\", \"label3\", \"label4\", \"label5\"]\n",
    "\n",
    "# Function to load video frames as a NumPy array\n",
    "def load_video_as_frames(video_path):\n",
    "    reader = imageio.get_reader(video_path)  # Open the video file\n",
    "    frames = [frame for frame in reader]  # Read all frames\n",
    "    return np.stack(frames, axis=0)  # Convert list of frames to a NumPy array (T, H, W, C)\n",
    "\n",
    "# Function to extract points and labels from the DataFrame\n",
    "def extract_points_and_labels(df):\n",
    "    points = []\n",
    "    labels = []\n",
    "    for frame_idx in range(len(df)):\n",
    "        for bodypart in df.columns.levels[1]:  # Iterate over bodyparts\n",
    "            try:\n",
    "                x = df.loc[frame_idx, ('DLC_resnet50_allGeckosJan26shuffle1_800000', bodypart, 'x')]\n",
    "                y = df.loc[frame_idx, ('DLC_resnet50_allGeckosJan26shuffle1_800000', bodypart, 'y')]\n",
    "                points.append([frame_idx, y, x])  # Napari uses (frame, y, x) order\n",
    "                labels.append(bodypart)  # Add the bodypart as a label\n",
    "            except KeyError:\n",
    "                continue\n",
    "    return np.array(points), labels\n",
    "\n",
    "\n",
    "# Load the DataFrame\n",
    "df = pd.read_csv(csv_file, header=[0, 1, 2])\n",
    "\n",
    "# Extract points and labels for Napari\n",
    "points_data, labels_data = extract_points_and_labels(df)\n",
    "\n",
    "# Load video frames\n",
    "video_frames = load_video_as_frames(video_file)\n",
    "\n",
    "# Open the video frames in Napari viewer\n",
    "viewer = napari.Viewer()\n",
    "viewer.add_image(video_frames, name=\"Video Frames\")\n",
    "\n",
    "# Add collected points with labels to the viewer\n",
    "viewer.add_points(\n",
    "    points_data,\n",
    "    size=4,  # Adjust point size as needed\n",
    "    name=\"Body Points\",\n",
    "    face_color='red',\n",
    "    properties={\"labels\": labels_data},  # Add the labels as properties\n",
    "    text={\"text\": \"{labels}\", \"anchor\": \"upper_left\", \"color\": \"white\"}  # Display labels\n",
    ")\n",
    "\n",
    "# Initialize the new Points layer\n",
    "points_layer = viewer.add_points(\n",
    "    [],  # Start with an empty points layer\n",
    "    size=4,\n",
    "    name=\"New Points\",\n",
    "    face_color=\"red\",\n",
    "    properties={\"labels\": []},  # Start with an empty labels list\n",
    "    text={\"text\": \"{labels}\", \"anchor\": \"upper_left\", \"color\": \"white\", \"size\": 5}\n",
    ")\n",
    "\n",
    "\n",
    "print(\"Napari viewer initialized. Add points to the 'New Points' layer, and labels will be assigned dynamically.\")\n"
   ]
  }
 ],
 "metadata": {
  "kernelspec": {
   "display_name": "dlc_env",
   "language": "python",
   "name": "python3"
  },
  "language_info": {
   "codemirror_mode": {
    "name": "ipython",
    "version": 3
   },
   "file_extension": ".py",
   "mimetype": "text/x-python",
   "name": "python",
   "nbconvert_exporter": "python",
   "pygments_lexer": "ipython3",
   "version": "3.10.14"
  }
 },
 "nbformat": 4,
 "nbformat_minor": 2
}
