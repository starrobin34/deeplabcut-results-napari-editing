{
 "cells": [
  {
   "cell_type": "code",
   "execution_count": 8,
   "metadata": {},
   "outputs": [
    {
     "data": {
      "application/vnd.jupyter.widget-view+json": {
       "model_id": "475aa6a12de74308915057a2150a0460",
       "version_major": 2,
       "version_minor": 0
      },
      "text/plain": [
       "Text(value='', description='Directory Path')"
      ]
     },
     "metadata": {},
     "output_type": "display_data"
    },
    {
     "data": {
      "application/vnd.jupyter.widget-view+json": {
       "model_id": "37d74e7cf359413fabf22ac44e8e311f",
       "version_major": 2,
       "version_minor": 0
      },
      "text/plain": [
       "Button(description='Select Directory', style=ButtonStyle())"
      ]
     },
     "metadata": {},
     "output_type": "display_data"
    },
    {
     "data": {
      "application/vnd.jupyter.widget-view+json": {
       "model_id": "6007154952434f099346b403653518d4",
       "version_major": 2,
       "version_minor": 0
      },
      "text/plain": [
       "Output()"
      ]
     },
     "metadata": {},
     "output_type": "display_data"
    }
   ],
   "source": [
    "import ipywidgets as widgets\n",
    "from IPython.display import display, clear_output\n",
    "from tkinter import Tk, filedialog\n",
    "import os\n",
    "from glob import glob\n",
    "\n",
    "# Widgets for directory selection\n",
    "directory_path = widgets.Text(description=\"Directory Path\")\n",
    "select_button = widgets.Button(description=\"Select Directory\")\n",
    "output = widgets.Output()\n",
    "\n",
    "# Global variables\n",
    "selected_directory = None\n",
    "csv_files = []\n",
    "video_files = []\n",
    "h5_files = []\n",
    "\n",
    "# Function to handle directory selection\n",
    "def on_select_button_click(b):\n",
    "    global selected_directory, csv_files, video_files, h5_files\n",
    "    with output:\n",
    "        clear_output(wait=True)\n",
    "        root = Tk()\n",
    "        root.attributes(\"-topmost\", True)\n",
    "        root.withdraw()  # Hide the main Tkinter window\n",
    "        new_directory = filedialog.askdirectory(title=\"Please select a directory containing the .csv files\")\n",
    "        root.destroy()  # Destroy the Tkinter instance\n",
    "\n",
    "        if new_directory:  # Check if a directory was selected\n",
    "            selected_directory = new_directory\n",
    "            directory_path.value = selected_directory\n",
    "            print(f\"You chose: {selected_directory}\")\n",
    "            \n",
    "            video_files = glob(os.path.join(selected_directory, '**', '*.avi'), recursive=True)\n",
    "            csv_files = glob(os.path.join(selected_directory, '**', '*.csv'), recursive=True)\n",
    "            h5_files = glob(os.path.join(selected_directory, '**', '*.h5'), recursive=True)\n",
    "            \n",
    "            if csv_files:\n",
    "                print(f\"\\nFound {len(csv_files)} .csv files in the directory and subdirectories:\")\n",
    "                for csv_file in csv_files:\n",
    "                    print(f\"- {os.path.basename(csv_file)}\")\n",
    "            if video_files:\n",
    "                print(f\"\\nFound {len(video_files)} .csv files in the directory and subdirectories:\")\n",
    "                for video_file in video_files:\n",
    "                    print(f\"- {os.path.basename(video_file)}\")\n",
    "            if h5_files:\n",
    "                print(f\"\\nFound {len(h5_files)} .h5 files in the directory and subdirectories:\")\n",
    "                for h5_file in h5_files:\n",
    "                    print(f\"- {os.path.basename(h5_file)}\")\n",
    "            else:\n",
    "                print(\"No files found in the selected directory.\")\n",
    "        else:\n",
    "            print(\"No directory selected.\")\n",
    "\n",
    "# Connect button to function and display widgets\n",
    "select_button.on_click(on_select_button_click)\n",
    "display(directory_path, select_button, output)"
   ]
  },
  {
   "cell_type": "code",
   "execution_count": null,
   "metadata": {},
   "outputs": [
    {
     "data": {
      "text/plain": [
       "<Points layer 'Body Points' at 0x1b7518c7550>"
      ]
     },
     "execution_count": 24,
     "metadata": {},
     "output_type": "execute_result"
    }
   ],
   "source": [
    "\n",
    "import napari\n",
    "import imageio\n",
    "import numpy as np\n",
    "import pandas as pd\n",
    "from pathlib import Path\n",
    "\n",
    "# Function to load video frames as a NumPy array\n",
    "def load_video_as_frames(video_path):\n",
    "    reader = imageio.get_reader(video_path)  # Open the video file\n",
    "    frames = [frame for frame in reader]  # Read all frames\n",
    "    frames_array = np.stack(frames, axis=0)  # Convert list of frames to a NumPy array (T, H, W, C)\n",
    "    return frames_array\n",
    "\n",
    "# Function to load points from a DataFrame\n",
    "def extract_points_from_dataframe(df):\n",
    "    points_per_frame = []\n",
    "    for frame_idx in range(len(df)):\n",
    "        frame_points = []\n",
    "        for bodypart in df.columns.levels[1]:  # Iterate over bodyparts\n",
    "            try:\n",
    "                x = df.loc[frame_idx, ('DLC_resnet50_allGeckosJan26shuffle1_800000', bodypart, 'x')]\n",
    "                y = df.loc[frame_idx, ('DLC_resnet50_allGeckosJan26shuffle1_800000', bodypart, 'y')]\n",
    "                frame_points.append([frame_idx, y, x])  # Napari uses (frame, y, x) order\n",
    "            except KeyError:\n",
    "                continue\n",
    "        points_per_frame.extend(frame_points)\n",
    "    return np.array(points_per_frame)\n",
    "\n",
    "# Load your DataFrame\n",
    "# Replace 'path_to_csv_file' with your CSV file path\n",
    "csv_file = Path(csv_files[0])\n",
    "df = pd.read_csv(csv_file, header=[0, 1, 2])\n",
    "\n",
    "# Extract points for Napari\n",
    "points_data = extract_points_from_dataframe(df)\n",
    "\n",
    "# Load video frames\n",
    "video_files = [Path(video_files[0])]  # Replace with your actual video file paths\n",
    "video_path = Path(video_files[0])\n",
    "video_frames = load_video_as_frames(video_path)\n",
    "\n",
    "# Open the video frames in Napari viewer\n",
    "viewer = napari.Viewer()\n",
    "viewer.add_image(video_frames, name=\"Video Frames\")\n",
    "\n",
    "# Add points to the viewer\n",
    "viewer.add_points(\n",
    "    points_data,\n",
    "    size=4,  # Adjust point size as needed\n",
    "    name=\"Body Points\",\n",
    "    face_color='red'\n",
    ")"
   ]
  }
 ],
 "metadata": {
  "kernelspec": {
   "display_name": "dlc_env",
   "language": "python",
   "name": "python3"
  },
  "language_info": {
   "codemirror_mode": {
    "name": "ipython",
    "version": 3
   },
   "file_extension": ".py",
   "mimetype": "text/x-python",
   "name": "python",
   "nbconvert_exporter": "python",
   "pygments_lexer": "ipython3",
   "version": "3.10.15"
  }
 },
 "nbformat": 4,
 "nbformat_minor": 2
}
